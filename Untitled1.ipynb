{
  "nbformat": 4,
  "nbformat_minor": 0,
  "metadata": {
    "colab": {
      "name": "Untitled1.ipynb",
      "provenance": [],
      "toc_visible": true,
      "authorship_tag": "ABX9TyOfkGbVZy1s54uTdfgtwPVA",
      "include_colab_link": true
    },
    "kernelspec": {
      "name": "python3",
      "display_name": "Python 3"
    },
    "language_info": {
      "name": "python"
    }
  },
  "cells": [
    {
      "cell_type": "markdown",
      "metadata": {
        "id": "view-in-github",
        "colab_type": "text"
      },
      "source": [
        "<a href=\"https://colab.research.google.com/github/MariaFernandaReyesLopez/prueba_colab/blob/main/Untitled1.ipynb\" target=\"_parent\"><img src=\"https://colab.research.google.com/assets/colab-badge.svg\" alt=\"Open In Colab\"/></a>"
      ]
    },
    {
      "cell_type": "markdown",
      "metadata": {
        "id": "mVyJH1jaG6IX"
      },
      "source": [
        "# **Explore y analice datos con Python.**"
      ]
    },
    {
      "cell_type": "markdown",
      "metadata": {
        "id": "u-88YEhkHIZe"
      },
      "source": [
        "La exploración y el análisis de datos son el núcleo de la ciencia de datos. Los científicos de datos\n",
        "requieren habilidades en lenguajes como Python para explorar, visualizar y manipular datos."
      ]
    }
  ]
}